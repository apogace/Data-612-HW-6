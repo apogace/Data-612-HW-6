{
  "nbformat": 4,
  "nbformat_minor": 0,
  "metadata": {
    "colab": {
      "name": "Anastas Pogace Data 612 HW6",
      "provenance": [],
      "collapsed_sections": [],
      "include_colab_link": true
    },
    "kernelspec": {
      "name": "python3",
      "display_name": "Python 3"
    }
  },
  "cells": [
    {
      "cell_type": "markdown",
      "metadata": {
        "id": "view-in-github",
        "colab_type": "text"
      },
      "source": [
        "<a href=\"https://colab.research.google.com/github/apogace/Data-612-HW-6/blob/main/Anastas_Pogace_Data_612_HW6.ipynb\" target=\"_parent\"><img src=\"https://colab.research.google.com/assets/colab-badge.svg\" alt=\"Open In Colab\"/></a>"
      ]
    },
    {
      "cell_type": "markdown",
      "metadata": {
        "id": "itDxvmaoOgOI"
      },
      "source": [
        "# Assignment for Week 6      \n",
        "(Chapter 8 & 9)"
      ]
    },
    {
      "cell_type": "markdown",
      "metadata": {
        "id": "FW3jd6aMOhED"
      },
      "source": [
        "## Purpose:     \n",
        "This assignment is intended to help you do the following:     \n",
        "1.\tAdvance your knowledge on working with strings\n",
        "2.\tFamiliarize with regular expression\n",
        "3.\tUse of functions and .apply()\n"
      ]
    },
    {
      "cell_type": "markdown",
      "metadata": {
        "id": "TzDuUf45Ow3f"
      },
      "source": [
        "## Action Items:       \n",
        "•\tWorking with strings.\n",
        "1. Clean a column on your data set using \n",
        "regular expression methods.      \n",
        "2. Store the cleaned column into another column of your data set and call it “your_col_name_cleaned”.     \n",
        "\n",
        "  *Another data set will be provided if your data set is not appropriate to apply regular expression methods.        \n",
        "\n",
        "•\tUse of .apply() \n",
        "\n",
        "1.   Create a function that returns the mean, sum, mode, median, and range (separately)      \n",
        "2.   Run the function into your chosen data set using the .apply() method.     \n",
        "3.   Post your work on GitHub\n"
      ]
    },
    {
      "cell_type": "markdown",
      "metadata": {
        "id": "-RFL-A7iws7O"
      },
      "source": [
        "***Anastas Pogace***\n",
        "\n",
        "> \n",
        "\n"
      ]
    },
    {
      "cell_type": "code",
      "metadata": {
        "colab": {
          "base_uri": "https://localhost:8080/",
          "height": 419
        },
        "id": "ztjziNBuwxOO",
        "outputId": "d040bc80-316a-4b65-fd6c-1c65d8d0c9b8"
      },
      "source": [
        "import pandas as pd\n",
        "import numpy as np\n",
        "\n",
        "\n",
        "df = pd.read_csv('https://raw.githubusercontent.com/frankData612/data_612/master/baseballdatabank-master/core/Salaries.csv')\n",
        "df"
      ],
      "execution_count": 127,
      "outputs": [
        {
          "output_type": "execute_result",
          "data": {
            "text/html": [
              "<div>\n",
              "<style scoped>\n",
              "    .dataframe tbody tr th:only-of-type {\n",
              "        vertical-align: middle;\n",
              "    }\n",
              "\n",
              "    .dataframe tbody tr th {\n",
              "        vertical-align: top;\n",
              "    }\n",
              "\n",
              "    .dataframe thead th {\n",
              "        text-align: right;\n",
              "    }\n",
              "</style>\n",
              "<table border=\"1\" class=\"dataframe\">\n",
              "  <thead>\n",
              "    <tr style=\"text-align: right;\">\n",
              "      <th></th>\n",
              "      <th>yearID</th>\n",
              "      <th>teamID</th>\n",
              "      <th>lgID</th>\n",
              "      <th>playerID</th>\n",
              "      <th>salary</th>\n",
              "    </tr>\n",
              "  </thead>\n",
              "  <tbody>\n",
              "    <tr>\n",
              "      <th>0</th>\n",
              "      <td>1985</td>\n",
              "      <td>ATL</td>\n",
              "      <td>NL</td>\n",
              "      <td>barkele01</td>\n",
              "      <td>870000</td>\n",
              "    </tr>\n",
              "    <tr>\n",
              "      <th>1</th>\n",
              "      <td>1985</td>\n",
              "      <td>ATL</td>\n",
              "      <td>NL</td>\n",
              "      <td>bedrost01</td>\n",
              "      <td>550000</td>\n",
              "    </tr>\n",
              "    <tr>\n",
              "      <th>2</th>\n",
              "      <td>1985</td>\n",
              "      <td>ATL</td>\n",
              "      <td>NL</td>\n",
              "      <td>benedbr01</td>\n",
              "      <td>545000</td>\n",
              "    </tr>\n",
              "    <tr>\n",
              "      <th>3</th>\n",
              "      <td>1985</td>\n",
              "      <td>ATL</td>\n",
              "      <td>NL</td>\n",
              "      <td>campri01</td>\n",
              "      <td>633333</td>\n",
              "    </tr>\n",
              "    <tr>\n",
              "      <th>4</th>\n",
              "      <td>1985</td>\n",
              "      <td>ATL</td>\n",
              "      <td>NL</td>\n",
              "      <td>ceronri01</td>\n",
              "      <td>625000</td>\n",
              "    </tr>\n",
              "    <tr>\n",
              "      <th>...</th>\n",
              "      <td>...</td>\n",
              "      <td>...</td>\n",
              "      <td>...</td>\n",
              "      <td>...</td>\n",
              "      <td>...</td>\n",
              "    </tr>\n",
              "    <tr>\n",
              "      <th>26423</th>\n",
              "      <td>2016</td>\n",
              "      <td>WAS</td>\n",
              "      <td>NL</td>\n",
              "      <td>strasst01</td>\n",
              "      <td>10400000</td>\n",
              "    </tr>\n",
              "    <tr>\n",
              "      <th>26424</th>\n",
              "      <td>2016</td>\n",
              "      <td>WAS</td>\n",
              "      <td>NL</td>\n",
              "      <td>taylomi02</td>\n",
              "      <td>524000</td>\n",
              "    </tr>\n",
              "    <tr>\n",
              "      <th>26425</th>\n",
              "      <td>2016</td>\n",
              "      <td>WAS</td>\n",
              "      <td>NL</td>\n",
              "      <td>treinbl01</td>\n",
              "      <td>524900</td>\n",
              "    </tr>\n",
              "    <tr>\n",
              "      <th>26426</th>\n",
              "      <td>2016</td>\n",
              "      <td>WAS</td>\n",
              "      <td>NL</td>\n",
              "      <td>werthja01</td>\n",
              "      <td>21733615</td>\n",
              "    </tr>\n",
              "    <tr>\n",
              "      <th>26427</th>\n",
              "      <td>2016</td>\n",
              "      <td>WAS</td>\n",
              "      <td>NL</td>\n",
              "      <td>zimmery01</td>\n",
              "      <td>14000000</td>\n",
              "    </tr>\n",
              "  </tbody>\n",
              "</table>\n",
              "<p>26428 rows × 5 columns</p>\n",
              "</div>"
            ],
            "text/plain": [
              "       yearID teamID lgID   playerID    salary\n",
              "0        1985    ATL   NL  barkele01    870000\n",
              "1        1985    ATL   NL  bedrost01    550000\n",
              "2        1985    ATL   NL  benedbr01    545000\n",
              "3        1985    ATL   NL   campri01    633333\n",
              "4        1985    ATL   NL  ceronri01    625000\n",
              "...       ...    ...  ...        ...       ...\n",
              "26423    2016    WAS   NL  strasst01  10400000\n",
              "26424    2016    WAS   NL  taylomi02    524000\n",
              "26425    2016    WAS   NL  treinbl01    524900\n",
              "26426    2016    WAS   NL  werthja01  21733615\n",
              "26427    2016    WAS   NL  zimmery01  14000000\n",
              "\n",
              "[26428 rows x 5 columns]"
            ]
          },
          "metadata": {
            "tags": []
          },
          "execution_count": 127
        }
      ]
    },
    {
      "cell_type": "markdown",
      "metadata": {
        "id": "OCgFI7ZFzWDX"
      },
      "source": [
        "1. Clean a column on your data set using regular expression methods."
      ]
    },
    {
      "cell_type": "code",
      "metadata": {
        "id": "X2EcUHWizZoN",
        "colab": {
          "base_uri": "https://localhost:8080/"
        },
        "outputId": "1f76a65f-3cdc-4c90-9290-bb18db56d687"
      },
      "source": [
        "df.count()"
      ],
      "execution_count": 128,
      "outputs": [
        {
          "output_type": "execute_result",
          "data": {
            "text/plain": [
              "yearID      26428\n",
              "teamID      26428\n",
              "lgID        26428\n",
              "playerID    26428\n",
              "salary      26428\n",
              "dtype: int64"
            ]
          },
          "metadata": {
            "tags": []
          },
          "execution_count": 128
        }
      ]
    },
    {
      "cell_type": "code",
      "metadata": {
        "colab": {
          "base_uri": "https://localhost:8080/"
        },
        "id": "ica3u_GK94Yf",
        "outputId": "046ee50c-0bda-488b-fab2-09b6f0cb5dbb"
      },
      "source": [
        "df.salary.isnull().sum()"
      ],
      "execution_count": 129,
      "outputs": [
        {
          "output_type": "execute_result",
          "data": {
            "text/plain": [
              "0"
            ]
          },
          "metadata": {
            "tags": []
          },
          "execution_count": 129
        }
      ]
    },
    {
      "cell_type": "code",
      "metadata": {
        "colab": {
          "base_uri": "https://localhost:8080/"
        },
        "id": "K-glhr9A-XXG",
        "outputId": "7a4cbb7e-6b87-437b-b79b-05bf76b7f344"
      },
      "source": [
        "df.salary.value_counts"
      ],
      "execution_count": 130,
      "outputs": [
        {
          "output_type": "execute_result",
          "data": {
            "text/plain": [
              "<bound method IndexOpsMixin.value_counts of 0          870000\n",
              "1          550000\n",
              "2          545000\n",
              "3          633333\n",
              "4          625000\n",
              "           ...   \n",
              "26423    10400000\n",
              "26424      524000\n",
              "26425      524900\n",
              "26426    21733615\n",
              "26427    14000000\n",
              "Name: salary, Length: 26428, dtype: int64>"
            ]
          },
          "metadata": {
            "tags": []
          },
          "execution_count": 130
        }
      ]
    },
    {
      "cell_type": "markdown",
      "metadata": {
        "id": "FJAduW0M-kc1"
      },
      "source": [
        "2. Store the cleaned column into another column of your data set and call it “your_col_name_cleaned”."
      ]
    },
    {
      "cell_type": "code",
      "metadata": {
        "colab": {
          "base_uri": "https://localhost:8080/"
        },
        "id": "87e4AnjK-pv-",
        "outputId": "010a8508-b7f1-4e97-a022-cf6f26e89479"
      },
      "source": [
        "df['salary_cleaned'] = df['salary'].astype(int)\n",
        "df.salary_cleaned"
      ],
      "execution_count": 131,
      "outputs": [
        {
          "output_type": "execute_result",
          "data": {
            "text/plain": [
              "0          870000\n",
              "1          550000\n",
              "2          545000\n",
              "3          633333\n",
              "4          625000\n",
              "           ...   \n",
              "26423    10400000\n",
              "26424      524000\n",
              "26425      524900\n",
              "26426    21733615\n",
              "26427    14000000\n",
              "Name: salary_cleaned, Length: 26428, dtype: int64"
            ]
          },
          "metadata": {
            "tags": []
          },
          "execution_count": 131
        }
      ]
    },
    {
      "cell_type": "code",
      "metadata": {
        "colab": {
          "base_uri": "https://localhost:8080/"
        },
        "id": "m1x_qoOXDrIk",
        "outputId": "ebc9380a-c6b0-4e01-fc90-58bd35355abe"
      },
      "source": [
        "df.dtypes"
      ],
      "execution_count": 132,
      "outputs": [
        {
          "output_type": "execute_result",
          "data": {
            "text/plain": [
              "yearID             int64\n",
              "teamID            object\n",
              "lgID              object\n",
              "playerID          object\n",
              "salary             int64\n",
              "salary_cleaned     int64\n",
              "dtype: object"
            ]
          },
          "metadata": {
            "tags": []
          },
          "execution_count": 132
        }
      ]
    },
    {
      "cell_type": "markdown",
      "metadata": {
        "id": "vLWoqKl-__jd"
      },
      "source": [
        " Use of .apply()\n",
        "\n",
        "1. Create a function that returns the mean, sum, mode, median, and range (separately)\n",
        "2. Run the function into your chosen data set using the .apply() method."
      ]
    },
    {
      "cell_type": "code",
      "metadata": {
        "id": "CcxM0xk_AFVG"
      },
      "source": [
        "def SummStats1(vec):\n",
        "  stats1 = np.sum(vec)\n",
        "  return stats1"
      ],
      "execution_count": 152,
      "outputs": []
    },
    {
      "cell_type": "code",
      "metadata": {
        "colab": {
          "base_uri": "https://localhost:8080/"
        },
        "id": "Ek8LTumSCLL9",
        "outputId": "1859b9d0-9580-47ac-8edf-821523120422"
      },
      "source": [
        "stats1 = df['salary_cleaned'].apply(SummStats1)\n",
        "stats1"
      ],
      "execution_count": 153,
      "outputs": [
        {
          "output_type": "execute_result",
          "data": {
            "text/plain": [
              "0          870000\n",
              "1          550000\n",
              "2          545000\n",
              "3          633333\n",
              "4          625000\n",
              "           ...   \n",
              "26423    10400000\n",
              "26424      524000\n",
              "26425      524900\n",
              "26426    21733615\n",
              "26427    14000000\n",
              "Name: salary_cleaned, Length: 26428, dtype: int64"
            ]
          },
          "metadata": {
            "tags": []
          },
          "execution_count": 153
        }
      ]
    },
    {
      "cell_type": "code",
      "metadata": {
        "id": "Ap58IR7eK2WE"
      },
      "source": [
        "def SummStats2(x):\n",
        "  return np.mean(x)"
      ],
      "execution_count": 135,
      "outputs": []
    },
    {
      "cell_type": "code",
      "metadata": {
        "colab": {
          "base_uri": "https://localhost:8080/"
        },
        "id": "7jDShSoEK6Q8",
        "outputId": "ecdf249b-2ac7-42d0-84ee-119fd2588a2f"
      },
      "source": [
        "stats2 = df['salary_cleaned'].apply(SummStats2)\n",
        "stats2"
      ],
      "execution_count": 136,
      "outputs": [
        {
          "output_type": "execute_result",
          "data": {
            "text/plain": [
              "0          870000.0\n",
              "1          550000.0\n",
              "2          545000.0\n",
              "3          633333.0\n",
              "4          625000.0\n",
              "            ...    \n",
              "26423    10400000.0\n",
              "26424      524000.0\n",
              "26425      524900.0\n",
              "26426    21733615.0\n",
              "26427    14000000.0\n",
              "Name: salary_cleaned, Length: 26428, dtype: float64"
            ]
          },
          "metadata": {
            "tags": []
          },
          "execution_count": 136
        }
      ]
    },
    {
      "cell_type": "code",
      "metadata": {
        "id": "GC6jCxbCLM2s"
      },
      "source": [
        "def SummStats3(x):\n",
        "  return np.median(x)"
      ],
      "execution_count": 137,
      "outputs": []
    },
    {
      "cell_type": "code",
      "metadata": {
        "colab": {
          "base_uri": "https://localhost:8080/"
        },
        "id": "no6kvM9VLTmr",
        "outputId": "2fedb3d7-0448-4cd1-eaed-d26e080c005a"
      },
      "source": [
        "stats3 = df['salary_cleaned'].apply(SummStats3)\n",
        "stats3"
      ],
      "execution_count": 138,
      "outputs": [
        {
          "output_type": "execute_result",
          "data": {
            "text/plain": [
              "0          870000.0\n",
              "1          550000.0\n",
              "2          545000.0\n",
              "3          633333.0\n",
              "4          625000.0\n",
              "            ...    \n",
              "26423    10400000.0\n",
              "26424      524000.0\n",
              "26425      524900.0\n",
              "26426    21733615.0\n",
              "26427    14000000.0\n",
              "Name: salary_cleaned, Length: 26428, dtype: float64"
            ]
          },
          "metadata": {
            "tags": []
          },
          "execution_count": 138
        }
      ]
    },
    {
      "cell_type": "code",
      "metadata": {
        "id": "A_2XE7YJLbjC"
      },
      "source": [
        "def SummStats4(x):\n",
        "  return np.median(x)"
      ],
      "execution_count": 139,
      "outputs": []
    },
    {
      "cell_type": "code",
      "metadata": {
        "colab": {
          "base_uri": "https://localhost:8080/"
        },
        "id": "MsSskFn7LiNE",
        "outputId": "48717a9f-299d-4bcf-8cd3-591f440baead"
      },
      "source": [
        "stats4 = df['salary_cleaned'].apply(SummStats4)\n",
        "stats4"
      ],
      "execution_count": 140,
      "outputs": [
        {
          "output_type": "execute_result",
          "data": {
            "text/plain": [
              "0          870000.0\n",
              "1          550000.0\n",
              "2          545000.0\n",
              "3          633333.0\n",
              "4          625000.0\n",
              "            ...    \n",
              "26423    10400000.0\n",
              "26424      524000.0\n",
              "26425      524900.0\n",
              "26426    21733615.0\n",
              "26427    14000000.0\n",
              "Name: salary_cleaned, Length: 26428, dtype: float64"
            ]
          },
          "metadata": {
            "tags": []
          },
          "execution_count": 140
        }
      ]
    },
    {
      "cell_type": "code",
      "metadata": {
        "id": "bmnr4oMDLqjs"
      },
      "source": [
        "def SummStats5(x):\n",
        "  return np.scipy(x)"
      ],
      "execution_count": 141,
      "outputs": []
    },
    {
      "cell_type": "code",
      "metadata": {
        "colab": {
          "base_uri": "https://localhost:8080/",
          "height": 357
        },
        "id": "T4PXdYynLsvC",
        "outputId": "962d8f4b-5547-4ef6-d424-1c5025a104e9"
      },
      "source": [
        "stats5 = df['salary_cleaned'].apply(SummStats5)\n",
        "stats5"
      ],
      "execution_count": 142,
      "outputs": [
        {
          "output_type": "error",
          "ename": "AttributeError",
          "evalue": "ignored",
          "traceback": [
            "\u001b[0;31m---------------------------------------------------------------------------\u001b[0m",
            "\u001b[0;31mAttributeError\u001b[0m                            Traceback (most recent call last)",
            "\u001b[0;32m<ipython-input-142-025455fe3795>\u001b[0m in \u001b[0;36m<module>\u001b[0;34m()\u001b[0m\n\u001b[0;32m----> 1\u001b[0;31m \u001b[0mstats5\u001b[0m \u001b[0;34m=\u001b[0m \u001b[0mdf\u001b[0m\u001b[0;34m[\u001b[0m\u001b[0;34m'salary_cleaned'\u001b[0m\u001b[0;34m]\u001b[0m\u001b[0;34m.\u001b[0m\u001b[0mapply\u001b[0m\u001b[0;34m(\u001b[0m\u001b[0mSummStats5\u001b[0m\u001b[0;34m)\u001b[0m\u001b[0;34m\u001b[0m\u001b[0;34m\u001b[0m\u001b[0m\n\u001b[0m\u001b[1;32m      2\u001b[0m \u001b[0mstats5\u001b[0m\u001b[0;34m\u001b[0m\u001b[0;34m\u001b[0m\u001b[0m\n",
            "\u001b[0;32m/usr/local/lib/python3.7/dist-packages/pandas/core/series.py\u001b[0m in \u001b[0;36mapply\u001b[0;34m(self, func, convert_dtype, args, **kwds)\u001b[0m\n\u001b[1;32m   4211\u001b[0m             \u001b[0;32melse\u001b[0m\u001b[0;34m:\u001b[0m\u001b[0;34m\u001b[0m\u001b[0;34m\u001b[0m\u001b[0m\n\u001b[1;32m   4212\u001b[0m                 \u001b[0mvalues\u001b[0m \u001b[0;34m=\u001b[0m \u001b[0mself\u001b[0m\u001b[0;34m.\u001b[0m\u001b[0mastype\u001b[0m\u001b[0;34m(\u001b[0m\u001b[0mobject\u001b[0m\u001b[0;34m)\u001b[0m\u001b[0;34m.\u001b[0m\u001b[0m_values\u001b[0m\u001b[0;34m\u001b[0m\u001b[0;34m\u001b[0m\u001b[0m\n\u001b[0;32m-> 4213\u001b[0;31m                 \u001b[0mmapped\u001b[0m \u001b[0;34m=\u001b[0m \u001b[0mlib\u001b[0m\u001b[0;34m.\u001b[0m\u001b[0mmap_infer\u001b[0m\u001b[0;34m(\u001b[0m\u001b[0mvalues\u001b[0m\u001b[0;34m,\u001b[0m \u001b[0mf\u001b[0m\u001b[0;34m,\u001b[0m \u001b[0mconvert\u001b[0m\u001b[0;34m=\u001b[0m\u001b[0mconvert_dtype\u001b[0m\u001b[0;34m)\u001b[0m\u001b[0;34m\u001b[0m\u001b[0;34m\u001b[0m\u001b[0m\n\u001b[0m\u001b[1;32m   4214\u001b[0m \u001b[0;34m\u001b[0m\u001b[0m\n\u001b[1;32m   4215\u001b[0m         \u001b[0;32mif\u001b[0m \u001b[0mlen\u001b[0m\u001b[0;34m(\u001b[0m\u001b[0mmapped\u001b[0m\u001b[0;34m)\u001b[0m \u001b[0;32mand\u001b[0m \u001b[0misinstance\u001b[0m\u001b[0;34m(\u001b[0m\u001b[0mmapped\u001b[0m\u001b[0;34m[\u001b[0m\u001b[0;36m0\u001b[0m\u001b[0;34m]\u001b[0m\u001b[0;34m,\u001b[0m \u001b[0mSeries\u001b[0m\u001b[0;34m)\u001b[0m\u001b[0;34m:\u001b[0m\u001b[0;34m\u001b[0m\u001b[0;34m\u001b[0m\u001b[0m\n",
            "\u001b[0;32mpandas/_libs/lib.pyx\u001b[0m in \u001b[0;36mpandas._libs.lib.map_infer\u001b[0;34m()\u001b[0m\n",
            "\u001b[0;32m<ipython-input-141-9a214f8b0739>\u001b[0m in \u001b[0;36mSummStats5\u001b[0;34m(x)\u001b[0m\n\u001b[1;32m      1\u001b[0m \u001b[0;32mdef\u001b[0m \u001b[0mSummStats5\u001b[0m\u001b[0;34m(\u001b[0m\u001b[0mx\u001b[0m\u001b[0;34m)\u001b[0m\u001b[0;34m:\u001b[0m\u001b[0;34m\u001b[0m\u001b[0;34m\u001b[0m\u001b[0m\n\u001b[0;32m----> 2\u001b[0;31m   \u001b[0;32mreturn\u001b[0m \u001b[0mnp\u001b[0m\u001b[0;34m.\u001b[0m\u001b[0mscipy\u001b[0m\u001b[0;34m(\u001b[0m\u001b[0mx\u001b[0m\u001b[0;34m)\u001b[0m\u001b[0;34m\u001b[0m\u001b[0;34m\u001b[0m\u001b[0m\n\u001b[0m",
            "\u001b[0;32m/usr/local/lib/python3.7/dist-packages/numpy/__init__.py\u001b[0m in \u001b[0;36m__getattr__\u001b[0;34m(attr)\u001b[0m\n\u001b[1;32m    213\u001b[0m             \u001b[0;32melse\u001b[0m\u001b[0;34m:\u001b[0m\u001b[0;34m\u001b[0m\u001b[0;34m\u001b[0m\u001b[0m\n\u001b[1;32m    214\u001b[0m                 raise AttributeError(\"module {!r} has no attribute \"\n\u001b[0;32m--> 215\u001b[0;31m                                      \"{!r}\".format(__name__, attr))\n\u001b[0m\u001b[1;32m    216\u001b[0m \u001b[0;34m\u001b[0m\u001b[0m\n\u001b[1;32m    217\u001b[0m         \u001b[0;32mdef\u001b[0m \u001b[0m__dir__\u001b[0m\u001b[0;34m(\u001b[0m\u001b[0;34m)\u001b[0m\u001b[0;34m:\u001b[0m\u001b[0;34m\u001b[0m\u001b[0;34m\u001b[0m\u001b[0m\n",
            "\u001b[0;31mAttributeError\u001b[0m: module 'numpy' has no attribute 'scipy'"
          ]
        }
      ]
    }
  ]
}